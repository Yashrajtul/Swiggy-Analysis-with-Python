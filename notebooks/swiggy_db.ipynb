{
 "cells": [
  {
   "cell_type": "code",
   "execution_count": null,
   "id": "d7855767",
   "metadata": {},
   "outputs": [
    {
     "name": "stdout",
     "output_type": "stream",
     "text": [
      "Database version: 8.0.42\n"
     ]
    }
   ],
   "source": [
    "# import mysql.connector\n",
    "\n",
    "# # Connect to remote MySQL\n",
    "# try:\n",
    "#     conn = mysql.connector.connect(\n",
    "#     host=\"192.168.194.204\",\n",
    "#     user=\"yash\",\n",
    "#     password=\"remote\",\n",
    "#     # database=\"swiggy_analysis\",\n",
    "#     database=\"swiggy_analysis_python\",\n",
    "#     port=3306  # default port, change if different\n",
    "#     )\n",
    "# except mysql.connector.Error as e:\n",
    "#     print(\"Error connecting to the database:\", e)\n",
    "#     exit(1)\n",
    "\n",
    "\n",
    "# cursor = conn.cursor()\n",
    "# cursor.execute(\"SELECT VERSION();\")\n",
    "# version = cursor.fetchone()\n",
    "# print(\"Database version:\", version[0])\n",
    "\n",
    "# # # Close\n",
    "\n",
    "\n",
    "\n",
    "# # cursor.close()\n",
    "# # conn.close()\n"
   ]
  },
  {
   "cell_type": "markdown",
   "id": "fc0a6fc3",
   "metadata": {},
   "source": [
    "## Database Connection"
   ]
  },
  {
   "cell_type": "code",
   "execution_count": null,
   "id": "53fe2701",
   "metadata": {},
   "outputs": [],
   "source": [
    "import mysql.connector\n",
    "from mysql.connector import Error\n",
    "import sys\n",
    "import os\n",
    "\n",
    "# Get the root directory (adjust if needed)\n",
    "project_root = os.path.abspath(os.path.join(os.getcwd(), '..'))\n",
    "\n",
    "# Add it to sys.path\n",
    "if project_root not in sys.path:\n",
    "    sys.path.append(project_root)\n",
    "\n",
    "# Now try the import\n",
    "from db.db_connection import SwiggyDBConnection\n",
    "\n",
    "\n",
    "def connect_to_database(host, user, password, database):\n",
    "    \"\"\"\n",
    "    Connects to the MySQL database and returns connection and cursor objects.\n",
    "\n",
    "    Parameters:\n",
    "        host (str): Database server address.\n",
    "        user (str): Username.\n",
    "        password (str): Password.\n",
    "        database (str): Database name.\n",
    "\n",
    "    Returns:\n",
    "        conn: MySQL connection object\n",
    "        cursor: MySQL cursor object\n",
    "\n",
    "    Raises:\n",
    "        Error: If connection fails\n",
    "    \"\"\"\n",
    "    try:\n",
    "        conn = mysql.connector.connect(\n",
    "            host=host,\n",
    "            user=user,\n",
    "            password=password,\n",
    "            database=database\n",
    "        )\n",
    "\n",
    "        if conn.is_connected():\n",
    "            print(\"Connected to MySQL database\")\n",
    "            cursor = conn.cursor()\n",
    "            return conn, cursor\n",
    "\n",
    "    except Error as e:\n",
    "        print(f\"Error connecting to database: {e}\")\n",
    "        return None, None\n",
    "    \n",
    "\n"
   ]
  },
  {
   "cell_type": "markdown",
   "id": "4d2ccb05",
   "metadata": {},
   "source": [
    "### Show Databases"
   ]
  },
  {
   "cell_type": "code",
   "execution_count": 3,
   "id": "64b438cf",
   "metadata": {},
   "outputs": [
    {
     "name": "stdout",
     "output_type": "stream",
     "text": [
      "Connected to MySQL database\n",
      "Databases:\n",
      "information_schema\n",
      "mysql\n",
      "performance_schema\n",
      "smartcampus360\n",
      "swiggy_analysis\n",
      "sys\n"
     ]
    }
   ],
   "source": [
    "def show_databases(cursor):\n",
    "    try:\n",
    "        cursor.execute(\"SHOW DATABASES;\")\n",
    "        databases = cursor.fetchall()\n",
    "        print(\"Databases:\")\n",
    "        for db in databases:\n",
    "            print(db[0])\n",
    "    except Error as e:\n",
    "        print(f\"Error fetching databases: {e}\")\n",
    "\n",
    "\n",
    "conn, cursor = connect_to_database(host, user, password, database)\n",
    "\n",
    "if conn and cursor:\n",
    "    # Use cursor.execute() for queries\n",
    "    \n",
    "    show_databases(cursor)\n",
    "    \n",
    "    # Don't forget to close after done:\n",
    "    cursor.close()\n",
    "    conn.close()\n",
    "else:\n",
    "    print(\"Failed to connect to database\")\n"
   ]
  },
  {
   "cell_type": "markdown",
   "id": "763faf6a",
   "metadata": {},
   "source": [
    "### Show Tables"
   ]
  },
  {
   "cell_type": "code",
   "execution_count": 4,
   "id": "77e64eeb",
   "metadata": {},
   "outputs": [
    {
     "name": "stdout",
     "output_type": "stream",
     "text": [
      "Connected to MySQL database\n",
      "Tables:\n",
      "booking\n",
      "city\n",
      "cuisines\n",
      "delivery\n",
      "fact_swiggy\n",
      "locality\n",
      "ratings\n"
     ]
    }
   ],
   "source": [
    "def show_tables(cursor):\n",
    "    try:\n",
    "        cursor.execute(\"SHOW TABLES;\")\n",
    "        tables = cursor.fetchall()\n",
    "        print(\"Tables:\")\n",
    "        for table in tables:\n",
    "            print(table[0])\n",
    "    except Error as e:\n",
    "        print(f\"Error fetching tables: {e}\")\n",
    "\n",
    "conn, cursor = connect_to_database(host, user, password, database)\n",
    "\n",
    "if conn and cursor:\n",
    "    # Use cursor.execute() for queries\n",
    "    \n",
    "    try:\n",
    "        show_tables(cursor)\n",
    "        \n",
    "    except Error as e:\n",
    "        print(f\"Error executing query: {e}\")\n",
    "    \n",
    "    \n",
    "    # Don't forget to close after done:\n",
    "    cursor.close()\n",
    "    conn.close()\n",
    "else:\n",
    "    print(\"Failed to connect to database\")\n",
    "    "
   ]
  },
  {
   "cell_type": "markdown",
   "id": "120a93db",
   "metadata": {},
   "source": [
    "### Create Table and Trigger Functions"
   ]
  },
  {
   "cell_type": "code",
   "execution_count": 5,
   "id": "fe10200c",
   "metadata": {},
   "outputs": [],
   "source": [
    "def create_table(cursor, create_table_query):\n",
    "    try:\n",
    "        cursor.execute(create_table_query)\n",
    "        print(\"Table created successfully.\")\n",
    "    except Error as e:\n",
    "        print(f\"Error creating table: {e}\")\n",
    "        \n",
    "\n",
    "def create_trigger(cursor, trigger_sql):\n",
    "    try:\n",
    "        cursor.execute(trigger_sql)\n",
    "        print(\"Trigger created successfully.\")\n",
    "    except Error as e:\n",
    "        print(f\"Error creating trigger: {e}\")"
   ]
  },
  {
   "cell_type": "markdown",
   "id": "d1071f04",
   "metadata": {},
   "source": [
    "### Drop table function"
   ]
  },
  {
   "cell_type": "code",
   "execution_count": 23,
   "id": "a280d2c8",
   "metadata": {},
   "outputs": [],
   "source": [
    "def drop_table(cursor, table_name):\n",
    "    \"\"\"\n",
    "    Drops the specified table if it exists.\n",
    "    \n",
    "    Parameters:\n",
    "        cursor: MySQL cursor object\n",
    "        table_name (str): Name of the table to drop\n",
    "    \"\"\"\n",
    "    try:\n",
    "        cursor.execute(f\"DROP TABLE IF EXISTS {table_name};\")\n",
    "        print(f\"Table '{table_name}' dropped successfully.\")\n",
    "    except Error as e:\n",
    "        print(f\"Error dropping table '{table_name}': {e}\")"
   ]
  },
  {
   "cell_type": "markdown",
   "id": "ebe67b3f",
   "metadata": {},
   "source": [
    "## Swiggy_source Table"
   ]
  },
  {
   "cell_type": "markdown",
   "id": "be4f1b54",
   "metadata": {},
   "source": [
    "### Create Swiggy_Source Table"
   ]
  },
  {
   "cell_type": "code",
   "execution_count": 6,
   "id": "3dc28cbf",
   "metadata": {},
   "outputs": [
    {
     "name": "stdout",
     "output_type": "stream",
     "text": [
      "Connected to MySQL database\n",
      "Table created successfully.\n"
     ]
    }
   ],
   "source": [
    "conn, cursor = connect_to_database(host, user, password, database)\n",
    "\n",
    "if conn and cursor:\n",
    "    \n",
    "    create_swiggy_source_table_query = \"\"\"\n",
    "    CREATE TABLE swiggy_source (\n",
    "        restaurant_name VARCHAR(255),\n",
    "        city VARCHAR(100),\n",
    "        locality VARCHAR(150),\n",
    "        cuisines VARCHAR(100),\n",
    "        average_cost_for_two INT,\n",
    "        has_table_booking VARCHAR(3),\n",
    "        has_online_delivery VARCHAR(3),\n",
    "        rating_stars_out_of_5 DOUBLE,\n",
    "        rating_in_text VARCHAR(20),\n",
    "        price_range INT,\n",
    "        votes INT\n",
    "    );\n",
    "    \"\"\"\n",
    "    create_table(cursor, create_swiggy_source_table_query)\n",
    "    \n",
    "\n",
    "    # Don't forget to close after done:\n",
    "    cursor.close()\n",
    "    conn.close()\n",
    "else:\n",
    "    print(\"Failed to connect to database\")\n",
    "    \n"
   ]
  },
  {
   "cell_type": "markdown",
   "id": "07dab574",
   "metadata": {},
   "source": [
    "### Load Swiggy_Source Table"
   ]
  },
  {
   "cell_type": "code",
   "execution_count": 12,
   "id": "bad1ea22",
   "metadata": {},
   "outputs": [
    {
     "name": "stdout",
     "output_type": "stream",
     "text": [
      "Connected to MySQL database\n",
      "Error loading data from CSV: 2068 (HY000): LOAD DATA LOCAL INFILE file request rejected due to restrictions on access.\n"
     ]
    }
   ],
   "source": [
    "def load_data_from_csv(cursor, csv_file_path):\n",
    "    \"\"\"\n",
    "    Loads data from a CSV file into the swiggy_source table.\n",
    "\n",
    "    Parameters:\n",
    "        cursor: MySQL cursor object\n",
    "        csv_file_path (str): Path to the CSV file\n",
    "    \"\"\"\n",
    "    try:\n",
    "        load_query = f\"\"\"\n",
    "        LOAD DATA LOCAL INFILE '{csv_file_path}'\n",
    "        INTO TABLE swiggy_source\n",
    "        FIELDS TERMINATED BY ','\n",
    "        ENCLOSED BY '\"'\n",
    "        LINES TERMINATED BY '\\\\n'\n",
    "        IGNORE 1 ROWS;\n",
    "        \"\"\"\n",
    "        cursor.execute(load_query)\n",
    "        print(\"Data loaded successfully from CSV.\")\n",
    "    except Error as e:\n",
    "        print(f\"Error loading data from CSV: {e}\")\n",
    "        \n",
    "        \n",
    "conn, cursor = connect_to_database(host, user, password, database)\n",
    "\n",
    "if conn and cursor:\n",
    "    \n",
    "    # data_load_query = \"\"\"\n",
    "    # LOAD DATA LOCAL INFILE '/tmp/Swiggy_Analysis_Source_File.csv'\n",
    "    # INTO TABLE swiggy_source\n",
    "    # FIELDS TERMINATED BY ',' \n",
    "    # ENCLOSED BY '\"'\n",
    "    # LINES TERMINATED BY '\\n'\n",
    "    # IGNORE 1 ROWS\n",
    "    # (restaurant_name, city, locality, cuisines, average_cost_for_two, has_table_booking, has_online_delivery, rating_stars_out_of_5, rating_in_text, price_range, votes);\n",
    "    # \"\"\"\n",
    "\n",
    "    csv_file_path = '/var/lib/mysql-files/Swiggy_Analysis_Source_File.csv'\n",
    "    load_data_from_csv(cursor, csv_file_path)\n",
    "\n",
    "    # Don't forget to close after done:\n",
    "    cursor.close()\n",
    "    conn.close()\n",
    "else:\n",
    "    print(\"Failed to connect to database\")\n",
    "    "
   ]
  },
  {
   "cell_type": "markdown",
   "id": "51d5fce0",
   "metadata": {},
   "source": [
    "### Drop Swiggy_Source Table"
   ]
  },
  {
   "cell_type": "code",
   "execution_count": 26,
   "id": "992a90ab",
   "metadata": {},
   "outputs": [
    {
     "name": "stdout",
     "output_type": "stream",
     "text": [
      "Connected to MySQL database\n",
      "Table 'swiggy_source' dropped successfully.\n"
     ]
    }
   ],
   "source": [
    "conn, cursor = connect_to_database(host, user, password, database)\n",
    "\n",
    "if conn and cursor:\n",
    "    \n",
    "    drop_table(cursor, \"swiggy_source\")\n",
    "    \n",
    "    # Don't forget to close after done:\n",
    "    cursor.close()\n",
    "    conn.close()\n",
    "else:\n",
    "    print(\"Failed to connect to database\")\n",
    "    "
   ]
  },
  {
   "cell_type": "markdown",
   "id": "ae16a80d",
   "metadata": {},
   "source": [
    "## Ratings Table"
   ]
  },
  {
   "cell_type": "code",
   "execution_count": 6,
   "id": "81513451",
   "metadata": {},
   "outputs": [],
   "source": [
    "def create_table(cursor, create_table_query):\n",
    "    try:\n",
    "        cursor.execute(create_table_query)\n",
    "        print(\"Table created successfully.\")\n",
    "    except Error as e:\n",
    "        print(f\"Error creating table: {e}\")\n",
    "        \n",
    "\n",
    "def create_trigger(cursor, trigger_sql):\n",
    "    try:\n",
    "        cursor.execute(trigger_sql)\n",
    "        print(\"Trigger created successfully.\")\n",
    "    except Error as e:\n",
    "        print(f\"Error creating trigger: {e}\")"
   ]
  },
  {
   "cell_type": "markdown",
   "id": "8785bca6",
   "metadata": {},
   "source": [
    "### Create Ratings Table"
   ]
  },
  {
   "cell_type": "code",
   "execution_count": null,
   "id": "e65f4e04",
   "metadata": {},
   "outputs": [
    {
     "name": "stdout",
     "output_type": "stream",
     "text": [
      "Connected to MySQL database\n",
      "Table created successfully.\n"
     ]
    }
   ],
   "source": [
    "conn, cursor = connect_to_database(host, user, password, database)\n",
    "\n",
    "if conn and cursor:\n",
    "    \n",
    "    # Create 'ratings' table if it does not exist\n",
    "\n",
    "    create_rating_table_query = '''\n",
    "        CREATE TABLE IF NOT EXISTS ratings (\n",
    "            id INT PRIMARY KEY AUTO_INCREMENT, \n",
    "            star DOUBLE NOT NULL, \n",
    "            text VARCHAR(20) NOT NULL\n",
    "        );\n",
    "    '''\n",
    "    create_table(cursor, create_rating_table_query)\n",
    "    \n",
    "\n",
    "    # Don't forget to close after done:\n",
    "    cursor.close()\n",
    "    conn.close()\n",
    "else:\n",
    "    print(\"Failed to connect to database\")\n",
    "    "
   ]
  },
  {
   "cell_type": "markdown",
   "id": "99f613a9",
   "metadata": {},
   "source": [
    "### Create set_rating_text Trigger"
   ]
  },
  {
   "cell_type": "code",
   "execution_count": 8,
   "id": "e3a9df32",
   "metadata": {},
   "outputs": [
    {
     "name": "stdout",
     "output_type": "stream",
     "text": [
      "Connected to MySQL database\n"
     ]
    }
   ],
   "source": [
    "conn, cursor = connect_to_database(host, user, password, database)\n",
    "\n",
    "if conn and cursor:\n",
    "    \n",
    "    ## DROP trigger if it already exists to avoid duplicate error\n",
    "    cursor.execute(\"DROP TRIGGER IF EXISTS set_rating_text\")\n",
    "\n",
    "    ## Define trigger using multiline string\n",
    "    trigger_sql = \"\"\"\n",
    "    CREATE TRIGGER set_rating_text\n",
    "    BEFORE INSERT ON ratings\n",
    "    FOR EACH ROW\n",
    "    BEGIN\n",
    "        IF NEW.star > 4.4 THEN\n",
    "            SET NEW.text = 'Excellent';\n",
    "        ELSEIF NEW.star > 3.9 THEN\n",
    "            SET NEW.text = 'Very Good';\n",
    "        ELSEIF NEW.star > 3.4 THEN\n",
    "            SET NEW.text = 'Good';\n",
    "        ELSEIF NEW.star > 1.9 THEN\n",
    "            SET NEW.text = 'Average';\n",
    "        ELSE\n",
    "            SET NEW.text = 'Low';\n",
    "        END IF;\n",
    "    END\n",
    "    \"\"\"\n",
    "\n",
    "    cursor.execute(trigger_sql)\n",
    "        \n",
    "    \n",
    "    # Don't forget to close after done:\n",
    "    cursor.close()\n",
    "    conn.close()\n",
    "else:\n",
    "    print(\"Failed to connect to database\")\n",
    "    "
   ]
  },
  {
   "cell_type": "markdown",
   "id": "50c8189d",
   "metadata": {},
   "source": [
    "### Initialize Ratings Table"
   ]
  },
  {
   "cell_type": "code",
   "execution_count": 9,
   "id": "1983b9c2",
   "metadata": {},
   "outputs": [
    {
     "name": "stdout",
     "output_type": "stream",
     "text": [
      "Connected to MySQL database\n",
      "Ratings table initialized successfully.\n"
     ]
    }
   ],
   "source": [
    "def initialize_ratings_table(cursor):\n",
    "    \"\"\"\n",
    "    Initializes the ratings table with values from 0.1 to 5.0 in steps of 0.1.\n",
    "    \"\"\"\n",
    "    try:\n",
    "        cursor.execute(\"DELETE FROM ratings\")  # Clear existing data before inserting new data\n",
    "        conn.commit()  # Commit the delete operation\n",
    "\n",
    "        for i in range(50, 0, -1):  # 0.1 to 5.0 in steps of 0.1\n",
    "            star = round(i * 0.1, 1)\n",
    "            cursor.execute(\"INSERT INTO ratings (star) VALUES (%s)\", (star,))\n",
    "        conn.commit()\n",
    "        print(\"Ratings table initialized successfully.\")\n",
    "        \n",
    "    except Error as e:\n",
    "        print(f\"Error initializing ratings table: {e}\")\n",
    "\n",
    "\n",
    "conn, cursor = connect_to_database(host, user, password, database)\n",
    "\n",
    "if conn and cursor:\n",
    "    \n",
    "    initialize_ratings_table(cursor)\n",
    "    \n",
    "    # Don't forget to close after done:\n",
    "    cursor.close()\n",
    "    conn.close()\n",
    "else:\n",
    "    print(\"Failed to connect to database\")\n",
    "    "
   ]
  },
  {
   "cell_type": "code",
   "execution_count": null,
   "id": "6caa51f4",
   "metadata": {},
   "outputs": [],
   "source": []
  },
  {
   "cell_type": "markdown",
   "id": "642da2c0",
   "metadata": {},
   "source": [
    "### Drop Ratings Table"
   ]
  },
  {
   "cell_type": "code",
   "execution_count": 65,
   "id": "3fc0ba71",
   "metadata": {},
   "outputs": [
    {
     "name": "stdout",
     "output_type": "stream",
     "text": [
      "Error connecting to database: 2003 (HY000): Can't connect to MySQL server on '192.168.194.204:3306' (113)\n",
      "Failed to connect to database\n"
     ]
    }
   ],
   "source": [
    "conn, cursor = connect_to_database(host, user, password, database)\n",
    "\n",
    "if conn and cursor:\n",
    "    \n",
    "    drop_table(cursor, \"ratings\")\n",
    "    \n",
    "    # Don't forget to close after done:\n",
    "    cursor.close()\n",
    "    conn.close()\n",
    "else:\n",
    "    print(\"Failed to connect to database\")\n",
    "    "
   ]
  },
  {
   "cell_type": "markdown",
   "id": "a6ee05da",
   "metadata": {},
   "source": [
    "### Select Data from Tables"
   ]
  },
  {
   "cell_type": "code",
   "execution_count": 10,
   "id": "2b1749c9",
   "metadata": {},
   "outputs": [],
   "source": [
    "def select_data_from_table(cursor, table_name):\n",
    "    \"\"\"\n",
    "    Selects all data from the specified table.\n",
    "    \n",
    "    Parameters:\n",
    "        cursor: MySQL cursor object\n",
    "        table_name (str): Name of the table to select data from\n",
    "    \"\"\"\n",
    "    try:\n",
    "        cursor.execute(f\"SELECT * FROM {table_name};\")\n",
    "        rows = cursor.fetchall()\n",
    "        for row in rows:\n",
    "            print(row)\n",
    "    except Error as e:\n",
    "        print(f\"Error selecting data from {table_name}: {e}\")\n",
    "\n",
    "\n",
    "def select_data_from_table_with_limit(cursor, table_name, limit):\n",
    "    \"\"\"\n",
    "    Selects data from a specified table with an optional limit.\n",
    "    \n",
    "    Parameters:\n",
    "        cursor: MySQL cursor object\n",
    "        table_name (str): Name of the table to select data from\n",
    "        limit (int): Number of rows to return\n",
    "    \n",
    "    Returns:\n",
    "        list: List of tuples containing the selected rows\n",
    "    \"\"\"\n",
    "    try:\n",
    "        query = f\"SELECT * FROM {table_name} LIMIT {limit};\"\n",
    "        cursor.execute(query)\n",
    "        return cursor.fetchall()\n",
    "    except Error as e:\n",
    "        print(f\"Error selecting data from table {table_name}: {e}\")\n",
    "        return []"
   ]
  },
  {
   "cell_type": "markdown",
   "id": "92d0c295",
   "metadata": {},
   "source": [
    "### Select Data from Ratings"
   ]
  },
  {
   "cell_type": "code",
   "execution_count": 11,
   "id": "7edbe503",
   "metadata": {},
   "outputs": [
    {
     "name": "stdout",
     "output_type": "stream",
     "text": [
      "Connected to MySQL database\n",
      "(1, 5.0, 'Excellent')\n",
      "(2, 4.9, 'Excellent')\n",
      "(3, 4.8, 'Excellent')\n",
      "(4, 4.7, 'Excellent')\n",
      "(5, 4.6, 'Excellent')\n",
      "(6, 4.5, 'Excellent')\n",
      "(7, 4.4, 'Very Good')\n",
      "(8, 4.3, 'Very Good')\n",
      "(9, 4.2, 'Very Good')\n",
      "(10, 4.1, 'Very Good')\n"
     ]
    }
   ],
   "source": [
    "conn, cursor = connect_to_database(host, user, password, database)\n",
    "\n",
    "if conn and cursor:\n",
    "    \n",
    "    ratings = select_data_from_table_with_limit(cursor, \"ratings\", limit=10)\n",
    "    for row in ratings:\n",
    "        print(row)\n",
    "    \n",
    "    # Don't forget to close after done:\n",
    "    cursor.close()\n",
    "    conn.close()\n",
    "else:\n",
    "    print(\"Failed to connect to database\")\n",
    "    "
   ]
  },
  {
   "cell_type": "markdown",
   "id": "06e580d5",
   "metadata": {},
   "source": [
    "### Drop Trigger function"
   ]
  },
  {
   "cell_type": "code",
   "execution_count": null,
   "id": "84c367d2",
   "metadata": {},
   "outputs": [],
   "source": [
    "def drop_trigger(cursor, trigger_name):\n",
    "    \"\"\"\n",
    "    Drops the specified trigger if it exists.\n",
    "    \n",
    "    Parameters:\n",
    "        cursor: MySQL cursor object\n",
    "        trigger_name (str): Name of the trigger to drop\n",
    "    \"\"\"\n",
    "    try:\n",
    "        cursor.execute(f\"DROP TRIGGER IF EXISTS {trigger_name};\")\n",
    "        print(f\"Trigger '{trigger_name}' dropped successfully.\")\n",
    "    except Error as e:\n",
    "        print(f\"Error dropping trigger '{trigger_name}': {e}\")"
   ]
  },
  {
   "cell_type": "markdown",
   "id": "27bdcd1d",
   "metadata": {},
   "source": [
    "### Drop Trigger and Table for Ratings"
   ]
  },
  {
   "cell_type": "code",
   "execution_count": null,
   "id": "df3e4c3d",
   "metadata": {},
   "outputs": [],
   "source": [
    "conn, cursor = connect_to_database(host, user, password, database)\n",
    "\n",
    "if conn and cursor:\n",
    "    \n",
    "    drop_trigger(cursor, \"set_rating_text\")\n",
    "    drop_table(cursor, \"ratings\")\n",
    "    \n",
    "    # Don't forget to close after done:\n",
    "    cursor.close()\n",
    "    conn.close()\n",
    "else:\n",
    "    print(\"Failed to connect to database\")\n",
    "    "
   ]
  },
  {
   "cell_type": "markdown",
   "id": "ac6252e4",
   "metadata": {},
   "source": [
    "## City Table"
   ]
  },
  {
   "cell_type": "markdown",
   "id": "f36880a3",
   "metadata": {},
   "source": [
    "### Create City Table"
   ]
  },
  {
   "cell_type": "code",
   "execution_count": 12,
   "id": "aac05b5b",
   "metadata": {},
   "outputs": [
    {
     "name": "stdout",
     "output_type": "stream",
     "text": [
      "Connected to MySQL database\n",
      "Table created successfully.\n"
     ]
    }
   ],
   "source": [
    "\n",
    "conn, cursor = connect_to_database(host, user, password, database)\n",
    "\n",
    "if conn and cursor:\n",
    "    \n",
    "    \n",
    "    # Create 'city' table if it does not exist\n",
    "\n",
    "    create_city_table_query = '''\n",
    "    CREATE TABLE IF NOT EXISTS city (\n",
    "        id INT PRIMARY KEY AUTO_INCREMENT, \n",
    "        name VARCHAR(100) NOT NULL\n",
    "    );\n",
    "    '''\n",
    "    create_table(cursor, create_city_table_query)\n",
    "    \n",
    "\n",
    "    # Don't forget to close after done:\n",
    "    cursor.close()\n",
    "    conn.close()\n",
    "else:\n",
    "    print(\"Failed to connect to database\")\n",
    "    "
   ]
  },
  {
   "cell_type": "markdown",
   "id": "4b59fb37",
   "metadata": {},
   "source": [
    "### Initialize City Table"
   ]
  },
  {
   "cell_type": "code",
   "execution_count": 18,
   "id": "1bfd8eef",
   "metadata": {},
   "outputs": [
    {
     "name": "stdout",
     "output_type": "stream",
     "text": [
      "Connected to MySQL database\n",
      "City table initialized successfully.\n"
     ]
    }
   ],
   "source": [
    "def initialize_city_table(cursor):\n",
    "    \"\"\"\n",
    "    Initializes the city table with predefined city names.\n",
    "    \"\"\"\n",
    "    try:\n",
    "        cursor.execute(\"DELETE FROM city\")  # Clear existing data before inserting new data\n",
    "        conn.commit()  # Commit the delete operation\n",
    "\n",
    "        cities = [\n",
    "            \"Bangalore\",\n",
    "            \"Chandigarh\",\n",
    "            \"Chennai\",\n",
    "            \"Goa\",\n",
    "            \"Guwahati\",\n",
    "            \"Hyderabad\",\n",
    "            \"Jaipur\",\n",
    "            \"Kolkata\",\n",
    "            \"Lucknow\",\n",
    "            \"Mumbai\",\n",
    "            \"Patna\",\n",
    "            \"Pune\",\n",
    "            \"Surat\"\n",
    "        ]\n",
    "\n",
    "        for city in cities:\n",
    "            cursor.execute(\"INSERT INTO city (name) VALUES (%s)\", (city,))\n",
    "        conn.commit()\n",
    "        print(\"City table initialized successfully.\")\n",
    "        \n",
    "    except Error as e:\n",
    "        print(f\"Error initializing city table: {e}\")\n",
    "\n",
    "\n",
    "conn, cursor = connect_to_database(host, user, password, database)\n",
    "\n",
    "if conn and cursor:\n",
    "    \n",
    "    initialize_city_table(cursor)\n",
    "    \n",
    "\n",
    "    # Don't forget to close after done:\n",
    "    cursor.close()\n",
    "    conn.close()\n",
    "else:\n",
    "    print(\"Failed to connect to database\")\n"
   ]
  },
  {
   "cell_type": "code",
   "execution_count": 19,
   "id": "089d173c",
   "metadata": {},
   "outputs": [
    {
     "name": "stdout",
     "output_type": "stream",
     "text": [
      "Connected to MySQL database\n",
      "(1, 'Bangalore')\n",
      "(2, 'Chandigarh')\n",
      "(3, 'Chennai')\n",
      "(4, 'Goa')\n",
      "(5, 'Guwahati')\n",
      "(6, 'Hyderabad')\n",
      "(7, 'Jaipur')\n",
      "(8, 'Kolkata')\n",
      "(9, 'Lucknow')\n",
      "(10, 'Mumbai')\n",
      "(11, 'Patna')\n",
      "(12, 'Pune')\n",
      "(13, 'Surat')\n"
     ]
    }
   ],
   "source": [
    "conn, cursor = connect_to_database(host, user, password, database)\n",
    "\n",
    "if conn and cursor:\n",
    "    \n",
    "    city = select_data_from_table(cursor, \"city\")\n",
    "    \n",
    "    # Don't forget to close after done:\n",
    "    cursor.close()\n",
    "    conn.close()\n",
    "else:\n",
    "    print(\"Failed to connect to database\")\n",
    "    "
   ]
  },
  {
   "cell_type": "markdown",
   "id": "79c90753",
   "metadata": {},
   "source": [
    "### Drop City Table"
   ]
  },
  {
   "cell_type": "code",
   "execution_count": null,
   "id": "5f047f38",
   "metadata": {},
   "outputs": [],
   "source": [
    "conn, cursor = connect_to_database(host, user, password, database)\n",
    "\n",
    "if conn and cursor:\n",
    "    \n",
    "    drop_table(cursor, \"city\")\n",
    "    \n",
    "    # Don't forget to close after done:\n",
    "    cursor.close()\n",
    "    conn.close()\n",
    "else:\n",
    "    print(\"Failed to connect to database\")\n",
    "    "
   ]
  },
  {
   "cell_type": "markdown",
   "id": "4db69d47",
   "metadata": {},
   "source": [
    "## Cuisines Table"
   ]
  },
  {
   "cell_type": "markdown",
   "id": "910702fd",
   "metadata": {},
   "source": [
    "### Create Cuisines Table"
   ]
  },
  {
   "cell_type": "code",
   "execution_count": 20,
   "id": "16428eb6",
   "metadata": {},
   "outputs": [
    {
     "name": "stdout",
     "output_type": "stream",
     "text": [
      "Connected to MySQL database\n",
      "Table created successfully.\n"
     ]
    }
   ],
   "source": [
    "conn, cursor = connect_to_database(host, user, password, database)\n",
    "\n",
    "if conn and cursor:\n",
    "    \n",
    "    \n",
    "    # Create 'cuisines' table if it does not exist\n",
    "\n",
    "    create_cuisines_table_query = '''\n",
    "    CREATE TABLE IF NOT EXISTS cuisines (\n",
    "        id INT PRIMARY KEY AUTO_INCREMENT, \n",
    "        name VARCHAR(100) NOT NULL\n",
    "    );\n",
    "    '''\n",
    "    create_table(cursor, create_cuisines_table_query)\n",
    "    \n",
    "\n",
    "    # Don't forget to close after done:\n",
    "    cursor.close()\n",
    "    conn.close()\n",
    "else:\n",
    "    print(\"Failed to connect to database\")\n",
    "    "
   ]
  },
  {
   "cell_type": "markdown",
   "id": "cacfe7af",
   "metadata": {},
   "source": [
    "### Initialize the cuisines table"
   ]
  },
  {
   "cell_type": "code",
   "execution_count": 21,
   "id": "30875bed",
   "metadata": {},
   "outputs": [
    {
     "name": "stdout",
     "output_type": "stream",
     "text": [
      "Connected to MySQL database\n",
      "Cuisines table initialized successfully.\n"
     ]
    }
   ],
   "source": [
    "def initialize_cuisines_table(cursor):\n",
    "    \"\"\"\n",
    "    Initializes the cuisines table with predefined cuisine names.\n",
    "    \"\"\"\n",
    "    try:\n",
    "        cursor.execute(\"DELETE FROM cuisines\")  # Clear existing data before inserting new data\n",
    "        conn.commit()  # Commit the delete operation\n",
    "\n",
    "        cuisines = [\n",
    "            \"American\",\n",
    "            \"Asian\",\n",
    "            \"Bakery\",\n",
    "            \"Bengali\",\n",
    "            \"Biryani\",\n",
    "            \"Café\",\n",
    "            \"Continental\",\n",
    "            \"Desserts\",\n",
    "            \"European\",\n",
    "            \"Fast Food\",\n",
    "            \"Healthy Food\",\n",
    "            \"Hyderabadi\",\n",
    "            \"Italian\",\n",
    "            \"Japanese\",\n",
    "            \"Mediterranean\",\n",
    "            \"Mexican\",\n",
    "            \"Modern Indian\",\n",
    "            \"North Indian\",\n",
    "            \"Rajasthani\",\n",
    "            \"Seafood\",\n",
    "            \"South Indian\",\n",
    "            \"Street Food\",\n",
    "            \"Goan\",\n",
    "            \"Chinese\",\n",
    "            \"Mughlai\",\n",
    "            \"Charcoal Grill\",\n",
    "            \"Lebanese\",\n",
    "            \"Gujarati\"\n",
    "        ]\n",
    "\n",
    "        for cuisine in cuisines:\n",
    "            cursor.execute(\"INSERT INTO cuisines (name) VALUES (%s)\", (cuisine,))\n",
    "        conn.commit()\n",
    "        print(\"Cuisines table initialized successfully.\")\n",
    "        \n",
    "    except Error as e:\n",
    "        print(f\"Error initializing cuisines table: {e}\")\n",
    "\n",
    "\n",
    "conn, cursor = connect_to_database(host, user, password, database)\n",
    "\n",
    "if conn and cursor:\n",
    "    \n",
    "    initialize_cuisines_table(cursor)\n",
    "    \n",
    "\n",
    "    # Don't forget to close after done:\n",
    "    cursor.close()\n",
    "    conn.close()\n",
    "else:\n",
    "    print(\"Failed to connect to database\")\n"
   ]
  },
  {
   "cell_type": "markdown",
   "id": "c0f8e7ed",
   "metadata": {},
   "source": [
    "### Drop cuisines table"
   ]
  },
  {
   "cell_type": "code",
   "execution_count": null,
   "id": "de812fe5",
   "metadata": {},
   "outputs": [],
   "source": [
    "conn, cursor = connect_to_database(host, user, password, database)\n",
    "\n",
    "if conn and cursor:\n",
    "    \n",
    "    drop_table(cursor, \"cuisines\")\n",
    "    \n",
    "    # Don't forget to close after done:\n",
    "    cursor.close()\n",
    "    conn.close()\n",
    "else:\n",
    "    print(\"Failed to connect to database\")\n",
    "    "
   ]
  },
  {
   "cell_type": "markdown",
   "id": "4ab7384a",
   "metadata": {},
   "source": [
    "### Select data from cuisines table"
   ]
  },
  {
   "cell_type": "code",
   "execution_count": 22,
   "id": "cfb16a16",
   "metadata": {},
   "outputs": [
    {
     "name": "stdout",
     "output_type": "stream",
     "text": [
      "Connected to MySQL database\n",
      "(1, 'American')\n",
      "(2, 'Asian')\n",
      "(3, 'Bakery')\n",
      "(4, 'Bengali')\n",
      "(5, 'Biryani')\n",
      "(6, 'Café')\n",
      "(7, 'Continental')\n",
      "(8, 'Desserts')\n",
      "(9, 'European')\n",
      "(10, 'Fast Food')\n",
      "(11, 'Healthy Food')\n",
      "(12, 'Hyderabadi')\n",
      "(13, 'Italian')\n",
      "(14, 'Japanese')\n",
      "(15, 'Mediterranean')\n",
      "(16, 'Mexican')\n",
      "(17, 'Modern Indian')\n",
      "(18, 'North Indian')\n",
      "(19, 'Rajasthani')\n",
      "(20, 'Seafood')\n",
      "(21, 'South Indian')\n",
      "(22, 'Street Food')\n",
      "(23, 'Goan')\n",
      "(24, 'Chinese')\n",
      "(25, 'Mughlai')\n",
      "(26, 'Charcoal Grill')\n",
      "(27, 'Lebanese')\n",
      "(28, 'Gujarati')\n"
     ]
    }
   ],
   "source": [
    "conn, cursor = connect_to_database(host, user, password, database)\n",
    "\n",
    "if conn and cursor:\n",
    "    \n",
    "    select_data_from_table(cursor, \"cuisines\")\n",
    "    \n",
    "    \n",
    "    # Don't forget to close after done:\n",
    "    cursor.close()\n",
    "    conn.close()\n",
    "else:\n",
    "    print(\"Failed to connect to database\")\n"
   ]
  },
  {
   "cell_type": "markdown",
   "id": "fb69cc9b",
   "metadata": {},
   "source": [
    "## Delivery"
   ]
  },
  {
   "cell_type": "markdown",
   "id": "1537cbaa",
   "metadata": {},
   "source": [
    "### Create Delivery Table"
   ]
  },
  {
   "cell_type": "code",
   "execution_count": 23,
   "id": "6e338b2a",
   "metadata": {},
   "outputs": [
    {
     "name": "stdout",
     "output_type": "stream",
     "text": [
      "Connected to MySQL database\n",
      "Table created successfully.\n"
     ]
    }
   ],
   "source": [
    "conn, cursor = connect_to_database(host, user, password, database)\n",
    "\n",
    "if conn and cursor:\n",
    "    \"\"\"\n",
    "    Creates the delivery table if it does not exist.\n",
    "    \"\"\"\n",
    "    create_delivery_table_query = '''\n",
    "    CREATE TABLE IF NOT EXISTS delivery (\n",
    "        id INT PRIMARY KEY AUTO_INCREMENT, \n",
    "        availability VARCHAR(3) NOT NULL\n",
    "    );\n",
    "    '''\n",
    "    create_table(cursor, create_delivery_table_query)\n",
    "    \n",
    "\n",
    "    # Don't forget to close after done:\n",
    "    cursor.close()\n",
    "    conn.close()\n",
    "else:\n",
    "    print(\"Failed to connect to database\")\n",
    "    "
   ]
  },
  {
   "cell_type": "markdown",
   "id": "e63a499c",
   "metadata": {},
   "source": [
    "### Initialize delivery table"
   ]
  },
  {
   "cell_type": "code",
   "execution_count": 24,
   "id": "24bd0fb8",
   "metadata": {},
   "outputs": [
    {
     "name": "stdout",
     "output_type": "stream",
     "text": [
      "Connected to MySQL database\n",
      "Delivery table initialized successfully.\n"
     ]
    }
   ],
   "source": [
    "def initialize_delivery_table(cursor):\n",
    "    \"\"\"\n",
    "    Initializes the delivery table with predefined delivery availability.\n",
    "    \"\"\"\n",
    "    try:\n",
    "        cursor.execute(\"DELETE FROM delivery\")  # Clear existing data before inserting new data\n",
    "        conn.commit()  # Commit the delete operation\n",
    "\n",
    "        deliveries = [\n",
    "            (\"Yes\",),\n",
    "            (\"No\",)\n",
    "        ]\n",
    "\n",
    "        cursor.executemany(\"INSERT INTO delivery (availability) VALUES (%s)\", deliveries)\n",
    "        conn.commit()\n",
    "        print(\"Delivery table initialized successfully.\")\n",
    "        \n",
    "    except Error as e:\n",
    "        print(f\"Error initializing delivery table: {e}\")\n",
    "        \n",
    "\n",
    "conn, cursor = connect_to_database(host, user, password, database)\n",
    "\n",
    "if conn and cursor:\n",
    "    \n",
    "    initialize_delivery_table(cursor)\n",
    "    \n",
    "\n",
    "    # Don't forget to close after done:\n",
    "    cursor.close()\n",
    "    conn.close()\n",
    "else:\n",
    "    print(\"Failed to connect to database\")"
   ]
  },
  {
   "cell_type": "markdown",
   "id": "27db75b1",
   "metadata": {},
   "source": [
    "### Drop the delivery table"
   ]
  },
  {
   "cell_type": "code",
   "execution_count": null,
   "id": "19848419",
   "metadata": {},
   "outputs": [],
   "source": [
    "conn, cursor = connect_to_database(host, user, password, database)\n",
    "\n",
    "if conn and cursor:\n",
    "    \n",
    "    drop_table(cursor, \"delivery\")\n",
    "    \n",
    "    # Don't forget to close after done:\n",
    "    cursor.close()\n",
    "    conn.close()\n",
    "else:\n",
    "    print(\"Failed to connect to database\")\n",
    "    "
   ]
  },
  {
   "cell_type": "markdown",
   "id": "976d6c72",
   "metadata": {},
   "source": [
    "### Select the delivery table"
   ]
  },
  {
   "cell_type": "code",
   "execution_count": 25,
   "id": "421cf0d7",
   "metadata": {},
   "outputs": [
    {
     "name": "stdout",
     "output_type": "stream",
     "text": [
      "Connected to MySQL database\n",
      "(1, 'Yes')\n",
      "(2, 'No')\n"
     ]
    }
   ],
   "source": [
    "conn, cursor = connect_to_database(host, user, password, database)\n",
    "\n",
    "if conn and cursor:\n",
    "    \n",
    "    select_data_from_table(cursor, \"delivery\")\n",
    "    \n",
    "    \n",
    "    # Don't forget to close after done:\n",
    "    cursor.close()\n",
    "    conn.close()\n",
    "else:\n",
    "    print(\"Failed to connect to database\")\n"
   ]
  },
  {
   "cell_type": "markdown",
   "id": "89235694",
   "metadata": {},
   "source": [
    "## Locality Table"
   ]
  },
  {
   "cell_type": "markdown",
   "id": "cdb23c04",
   "metadata": {},
   "source": [
    "### Create Locality Table"
   ]
  },
  {
   "cell_type": "code",
   "execution_count": null,
   "id": "222af69d",
   "metadata": {},
   "outputs": [
    {
     "name": "stdout",
     "output_type": "stream",
     "text": [
      "Connected to MySQL database\n",
      "Table created successfully.\n"
     ]
    }
   ],
   "source": [
    "conn, cursor = connect_to_database(host, user, password, database)\n",
    "\n",
    "if conn and cursor:\n",
    "    \n",
    "    create_locality_table_query = '''\n",
    "    CREATE TABLE IF NOT EXISTS locality (\n",
    "        id INT PRIMARY KEY AUTO_INCREMENT, \n",
    "        name VARCHAR(150) NOT NULL\n",
    "    );\n",
    "    '''\n",
    "    create_table(cursor, create_locality_table_query)\n",
    "    \n",
    "    \n",
    "    # Don't forget to close after done:\n",
    "    cursor.close()\n",
    "    conn.close()\n",
    "else:\n",
    "    print(\"Failed to connect to database\")"
   ]
  },
  {
   "cell_type": "markdown",
   "id": "3079b0ed",
   "metadata": {},
   "source": [
    "### Initialization of Locality Table"
   ]
  },
  {
   "cell_type": "code",
   "execution_count": null,
   "metadata": {},
   "outputs": [
    {
     "name": "stdout",
     "output_type": "stream",
     "text": [
      "Connected to MySQL database\n",
      "Locality table initialized successfully.\n"
     ]
    }
   ],
   "source": [
    "def initialize_locality_table(cursor):\n",
    "    \"\"\"\n",
    "    Initializes the locality table with predefined locality names.\n",
    "    \"\"\"\n",
    "    try:\n",
    "        cursor.execute(\"DELETE FROM locality\")  # Clear existing data before inserting new data\n",
    "        conn.commit()  # Commit the delete operation\n",
    "\n",
    "        locality_initialization_query = ''' \n",
    "        INSERT INTO locality (name)\n",
    "        SELECT DISTINCT locality\n",
    "        FROM swiggy_source\n",
    "        WHERE locality IS NOT NULL;\n",
    "        '''\n",
    "\n",
    "        cursor.execute(locality_initialization_query)\n",
    "        conn.commit()\n",
    "        print(\"Locality table initialized successfully.\")\n",
    "        \n",
    "    except Error as e:\n",
    "        print(f\"Error initializing locality table: {e}\")\n",
    "        \n",
    "\n",
    "conn, cursor = connect_to_database(host, user, password, database)\n",
    "\n",
    "if conn and cursor:\n",
    "    \n",
    "    initialize_locality_table\n",
    "    \n",
    "\n",
    "    # Don't forget to close after done:\n",
    "    cursor.close()\n",
    "    conn.close()\n",
    "else:\n",
    "    print(\"Failed to connect to database\")"
   ]
  },
  {
   "cell_type": "markdown",
   "id": "2e9dab5e",
   "metadata": {},
   "source": [
    "### Drop the Locality Table"
   ]
  },
  {
   "cell_type": "code",
   "execution_count": null,
   "id": "9e83e2aa",
   "metadata": {},
   "outputs": [],
   "source": [
    "conn, cursor = connect_to_database(host, user, password, database)\n",
    "\n",
    "if conn and cursor:\n",
    "    \n",
    "    drop_table(cursor, \"locality\")\n",
    "    \n",
    "    # Don't forget to close after done:\n",
    "    cursor.close()\n",
    "    conn.close()\n",
    "else:\n",
    "    print(\"Failed to connect to database\")\n",
    "    "
   ]
  },
  {
   "cell_type": "markdown",
   "id": "fad8627c",
   "metadata": {},
   "source": [
    "### Select data from Locality Table"
   ]
  },
  {
   "cell_type": "code",
   "execution_count": 29,
   "id": "ae255554",
   "metadata": {},
   "outputs": [
    {
     "name": "stdout",
     "output_type": "stream",
     "text": [
      "Connected to MySQL database\n",
      "(1, 'BluPetal Hotel, Koramangala')\n",
      "(2, 'Indiranagar')\n",
      "(3, 'JP Nagar')\n",
      "(4, 'Koramangala 5th Block')\n",
      "(5, 'Koramangala 6th Block')\n",
      "(6, 'Koramangala 7th Block')\n",
      "(7, 'Marathahalli')\n",
      "(8, 'New BEL Road')\n",
      "(9, 'Residency Road')\n",
      "(10, 'Sarjapur Road')\n"
     ]
    }
   ],
   "source": [
    "conn, cursor = connect_to_database(host, user, password, database)\n",
    "\n",
    "if conn and cursor:\n",
    "    \n",
    "    locality = select_data_from_table_with_limit(cursor, \"locality\", limit=10)\n",
    "    for row in locality:\n",
    "        print(row)\n",
    "    \n",
    "    \n",
    "    # Don't forget to close after done:\n",
    "    cursor.close()\n",
    "    conn.close()\n",
    "else:\n",
    "    print(\"Failed to connect to database\")\n"
   ]
  },
  {
   "cell_type": "markdown",
   "id": "71c94783",
   "metadata": {},
   "source": [
    "## Restaurant Table"
   ]
  },
  {
   "cell_type": "markdown",
   "id": "459699e8",
   "metadata": {},
   "source": [
    "### Create Restaurant Table"
   ]
  },
  {
   "cell_type": "code",
   "execution_count": 31,
   "id": "f83e20c4",
   "metadata": {},
   "outputs": [
    {
     "name": "stdout",
     "output_type": "stream",
     "text": [
      "Connected to MySQL database\n",
      "Table created successfully.\n"
     ]
    }
   ],
   "source": [
    "conn, cursor = connect_to_database(host, user, password, database)\n",
    "\n",
    "if conn and cursor:\n",
    "    \n",
    "    create_restaurants_table_query = '''\n",
    "    CREATE TABLE IF NOT EXISTS restaurants (\n",
    "        id INT PRIMARY KEY AUTO_INCREMENT, \n",
    "        name VARCHAR(255) NOT NULL\n",
    "    );\n",
    "    '''\n",
    "    create_table(cursor, create_restaurants_table_query)\n",
    "    \n",
    "    \n",
    "    # Don't forget to close after done:\n",
    "    cursor.close()\n",
    "    conn.close()\n",
    "else:\n",
    "    print(\"Failed to connect to database\")"
   ]
  },
  {
   "cell_type": "markdown",
   "id": "ad6d45df",
   "metadata": {},
   "source": [
    "### Initialization of Restaurants Table"
   ]
  },
  {
   "cell_type": "code",
   "execution_count": 34,
   "id": "c1c4cc62",
   "metadata": {},
   "outputs": [
    {
     "name": "stdout",
     "output_type": "stream",
     "text": [
      "Connected to MySQL database\n",
      "Restaurants table initialized successfully.\n"
     ]
    }
   ],
   "source": [
    "def initialize_restaurants_table(cursor):\n",
    "    \"\"\"\n",
    "    Initializes the restaurants table with restaurant names from swiggy_source.\n",
    "    \"\"\"\n",
    "    try:\n",
    "        cursor.execute(\"DELETE FROM restaurants\")  # Clear existing data before inserting new data\n",
    "        conn.commit()  # Commit the delete operation\n",
    "\n",
    "        restaurants_initialization_query = ''' \n",
    "        INSERT INTO restaurants (name)\n",
    "        SELECT DISTINCT restaurant_name\n",
    "        FROM swiggy_source\n",
    "        WHERE restaurant_name IS NOT NULL;\n",
    "        '''\n",
    "\n",
    "        cursor.execute(restaurants_initialization_query)\n",
    "        conn.commit()\n",
    "        print(\"Restaurants table initialized successfully.\")\n",
    "        \n",
    "    except Error as e:\n",
    "        print(f\"Error initializing restaurants table: {e}\")\n",
    "\n",
    "        \n",
    "\n",
    "conn, cursor = connect_to_database(host, user, password, database)\n",
    "\n",
    "if conn and cursor:\n",
    "    \n",
    "    initialize_restaurants_table(cursor)\n",
    "    \n",
    "\n",
    "    # Don't forget to close after done:\n",
    "    cursor.close()\n",
    "    conn.close()\n",
    "else:\n",
    "    print(\"Failed to connect to database\")"
   ]
  },
  {
   "cell_type": "markdown",
   "id": "14ee4a71",
   "metadata": {},
   "source": [
    "### Drop Restaurants Table"
   ]
  },
  {
   "cell_type": "code",
   "execution_count": null,
   "id": "4ab890b9",
   "metadata": {},
   "outputs": [],
   "source": [
    "conn, cursor = connect_to_database(host, user, password, database)\n",
    "\n",
    "if conn and cursor:\n",
    "    \n",
    "    drop_table(cursor, \"restaurants\")\n",
    "    \n",
    "    # Don't forget to close after done:\n",
    "    cursor.close()\n",
    "    conn.close()\n",
    "else:\n",
    "    print(\"Failed to connect to database\")\n",
    "    "
   ]
  },
  {
   "cell_type": "markdown",
   "id": "936a0226",
   "metadata": {},
   "source": [
    "### Select data from Restaurants Table"
   ]
  },
  {
   "cell_type": "code",
   "execution_count": 35,
   "id": "01795992",
   "metadata": {},
   "outputs": [
    {
     "name": "stdout",
     "output_type": "stream",
     "text": [
      "Connected to MySQL database\n",
      "(1, 'Sultans of Spice')\n",
      "(2, 'The Fatty Bao - Asian Gastro Bar')\n",
      "(3, 'Toit')\n",
      "(4, 'Three Dots & A Dash')\n",
      "(5, 'Bombay Brasserie')\n",
      "(6, \"Glen's Bakehouse\")\n",
      "(7, 'Onesta')\n",
      "(8, 'ECHOES Koramangala')\n",
      "(9, 'Truffles')\n",
      "(10, 'The Black Pearl')\n"
     ]
    }
   ],
   "source": [
    "conn, cursor = connect_to_database(host, user, password, database)\n",
    "\n",
    "if conn and cursor:\n",
    "    \n",
    "    restaurants = select_data_from_table_with_limit(cursor, \"restaurants\", limit=10)\n",
    "    for row in restaurants:\n",
    "        print(row)\n",
    "    \n",
    "    \n",
    "    # Don't forget to close after done:\n",
    "    cursor.close()\n",
    "    conn.close()\n",
    "else:\n",
    "    print(\"Failed to connect to database\")\n"
   ]
  },
  {
   "cell_type": "markdown",
   "id": "daded261",
   "metadata": {},
   "source": [
    "## Booking Table"
   ]
  },
  {
   "cell_type": "markdown",
   "id": "143d36c9",
   "metadata": {},
   "source": [
    "### Create a Booking Table"
   ]
  },
  {
   "cell_type": "code",
   "execution_count": 32,
   "id": "adb9a500",
   "metadata": {},
   "outputs": [
    {
     "name": "stdout",
     "output_type": "stream",
     "text": [
      "Connected to MySQL database\n",
      "Table created successfully.\n"
     ]
    }
   ],
   "source": [
    "conn, cursor = connect_to_database(host, user, password, database)\n",
    "\n",
    "if conn and cursor:\n",
    "    \n",
    "    create_booking_table_query = '''\n",
    "    CREATE TABLE IF NOT EXISTS booking (\n",
    "        id INT PRIMARY KEY AUTO_INCREMENT,\n",
    "        availability VARCHAR(3) NOT NULL\n",
    "    );\n",
    "    '''\n",
    "    create_table(cursor, create_booking_table_query)\n",
    "    \n",
    "    \n",
    "    # Don't forget to close after done:\n",
    "    cursor.close()\n",
    "    conn.close()\n",
    "else:\n",
    "    print(\"Failed to connect to database\")"
   ]
  },
  {
   "cell_type": "markdown",
   "id": "9fb48886",
   "metadata": {},
   "source": [
    "### Initialization of Booking Table"
   ]
  },
  {
   "cell_type": "code",
   "execution_count": 36,
   "id": "7ddb5977",
   "metadata": {},
   "outputs": [
    {
     "name": "stdout",
     "output_type": "stream",
     "text": [
      "Connected to MySQL database\n",
      "Booking table initialized successfully.\n"
     ]
    }
   ],
   "source": [
    "def initialize_booking_table(cursor):\n",
    "    \"\"\"\n",
    "    Initializes the booking table with predefined booking availability.\n",
    "    \"\"\"\n",
    "    try:\n",
    "        cursor.execute(\"DELETE FROM booking\")  # Clear existing data before inserting new data\n",
    "        conn.commit()  # Commit the delete operation\n",
    "\n",
    "        bookings = [\n",
    "            (\"Yes\",),\n",
    "            (\"No\",)\n",
    "        ]\n",
    "\n",
    "        cursor.executemany(\"INSERT INTO booking (availability) VALUES (%s)\", bookings)\n",
    "        conn.commit()\n",
    "        print(\"Booking table initialized successfully.\")\n",
    "        \n",
    "    except Error as e:\n",
    "        print(f\"Error initializing booking table: {e}\")\n",
    "        \n",
    "conn, cursor = connect_to_database(host, user, password, database)\n",
    "\n",
    "if conn and cursor:\n",
    "    \n",
    "    initialize_booking_table(cursor)\n",
    "    \n",
    "    \n",
    "    # Don't forget to close after done:\n",
    "    cursor.close()\n",
    "    conn.close()\n",
    "else:\n",
    "    print(\"Failed to connect to database\")\n"
   ]
  },
  {
   "cell_type": "code",
   "execution_count": null,
   "id": "ccb7b765",
   "metadata": {},
   "outputs": [],
   "source": []
  },
  {
   "cell_type": "markdown",
   "id": "26a37082",
   "metadata": {},
   "source": [
    "## Fact_swiggy Table"
   ]
  },
  {
   "cell_type": "code",
   "execution_count": 37,
   "id": "da0481ad",
   "metadata": {},
   "outputs": [
    {
     "name": "stdout",
     "output_type": "stream",
     "text": [
      "Connected to MySQL database\n",
      "Table created successfully.\n"
     ]
    }
   ],
   "source": [
    "conn, cursor = connect_to_database(host, user, password, database)\n",
    "\n",
    "if conn and cursor:\n",
    "    \"\"\"\n",
    "    Creates the fact_swiggy table if it does not exist.\n",
    "    \"\"\"\n",
    "    \n",
    "    create_fact_swiggy_table_query = '''\n",
    "    CREATE TABLE IF NOT EXISTS fact_swiggy (\n",
    "        fact_id INT PRIMARY KEY AUTO_INCREMENT, \n",
    "        city_id INT NOT NULL, \n",
    "        locality_id INT NOT NULL,\n",
    "        rest_id INT NOT NULL,\n",
    "        cuisine_id INT NOT NULL, \n",
    "        rating_id INT NOT NULL,\n",
    "        delivery_id INT NOT NULL, \n",
    "        booking_id INT NOT NULL,\n",
    "        avg_cost_for_two INT NOT NULL,\n",
    "        votes INT NOT NULL,\n",
    "        price_range INT NOT NULL,\n",
    "        FOREIGN KEY (city_id) REFERENCES city(id),\n",
    "        FOREIGN KEY (locality_id) REFERENCES locality(id),\n",
    "        FOREIGN KEY (rest_id) REFERENCES restaurants(id),\n",
    "        FOREIGN KEY (cuisine_id) REFERENCES cuisines(id),\n",
    "        FOREIGN KEY (rating_id) REFERENCES ratings(id),\n",
    "        FOREIGN KEY (delivery_id) REFERENCES delivery(id),\n",
    "        FOREIGN KEY (booking_id) REFERENCES booking(id)\n",
    "    );\n",
    "    '''\n",
    "    create_table(cursor, create_fact_swiggy_table_query)\n",
    "    \n",
    "\n",
    "    # Don't forget to close after done:\n",
    "    cursor.close()\n",
    "    conn.close()\n",
    "else:\n",
    "    print(\"Failed to connect to database\")\n",
    "    "
   ]
  },
  {
   "cell_type": "code",
   "execution_count": 21,
   "id": "c3f76109",
   "metadata": {},
   "outputs": [
    {
     "name": "stdout",
     "output_type": "stream",
     "text": [
      "Connected to MySQL database\n",
      "Table created successfully.\n"
     ]
    }
   ],
   "source": [
    "# Remote\n",
    "conn, cursor = connect_to_database(host, user, password, database)\n",
    "\n",
    "if conn and cursor:\n",
    "    \"\"\"\n",
    "    Creates the fact_swiggy table if it does not exist.\n",
    "    \"\"\"\n",
    "    \n",
    "    create_fact_swiggy_table_query = '''\n",
    "    CREATE TABLE IF NOT EXISTS fact_swiggy (\n",
    "        fact_id INT PRIMARY KEY AUTO_INCREMENT, \n",
    "        city_id INT NOT NULL, \n",
    "        locality_id INT NOT NULL,\n",
    "        rest_id INT NOT NULL,\n",
    "        cuisine_id INT NOT NULL, \n",
    "        rating_id INT NOT NULL,\n",
    "        delivery_id INT NOT NULL, \n",
    "        book_id INT NOT NULL,\n",
    "        avg_cost_for_2 INT NOT NULL,\n",
    "        votes INT NOT NULL,\n",
    "        price_range INT NOT NULL,\n",
    "        FOREIGN KEY (city_id) REFERENCES city_dim(city_id),\n",
    "        FOREIGN KEY (locality_id) REFERENCES locality_dim(locality_id),\n",
    "        FOREIGN KEY (rest_id) REFERENCES restaurant(rest_id),\n",
    "        FOREIGN KEY (cuisine_id) REFERENCES cuisines(cuisine_id),\n",
    "        FOREIGN KEY (rating_id) REFERENCES ratings(rating_id),\n",
    "        FOREIGN KEY (delivery_id) REFERENCES delivery(delivery_id),\n",
    "        FOREIGN KEY (book_id) REFERENCES table_booking(book_id)\n",
    "    );\n",
    "    '''\n",
    "    create_table(cursor, create_fact_swiggy_table_query)\n",
    "    \n",
    "\n",
    "    # Don't forget to close after done:\n",
    "    cursor.close()\n",
    "    conn.close()\n",
    "else:\n",
    "    print(\"Failed to connect to database\")\n",
    "    "
   ]
  },
  {
   "cell_type": "markdown",
   "id": "1adce98c",
   "metadata": {},
   "source": [
    "### Initialize the fact_swiggy table"
   ]
  },
  {
   "cell_type": "code",
   "execution_count": null,
   "id": "58f2b61e",
   "metadata": {},
   "outputs": [
    {
     "name": "stdout",
     "output_type": "stream",
     "text": [
      "Connected to MySQL database\n",
      "Error initializing fact table: 1146 (42S02): Table 'swiggy_python.city' doesn't exist\n"
     ]
    }
   ],
   "source": [
    "def initialize_fact_table_from_swiggy_source(cursor):\n",
    "    \"\"\"\n",
    "    Initializes the fact table with data from the source table.\n",
    "    \"\"\"\n",
    "    try:\n",
    "        \n",
    "        fact_table_inilization_query = '''\n",
    "        INSERT INTO fact_swiggy (\n",
    "            city_id, locality_id, rest_id, cuisine_id, rating_id,\n",
    "            delivery_id, booking_id, avg_cost_for_two, votes, price_range\n",
    "        )\n",
    "        SELECT\n",
    "            c.id, \n",
    "            l.locality_id, \n",
    "            r.rest_id, \n",
    "            cu.cuisine_id, \n",
    "            rt.rating_id,\n",
    "            d.delivery_id, \n",
    "            b.booking_id,\n",
    "            s.average_cost_for_two,\n",
    "            s.votes,\n",
    "            s.price_range\n",
    "        FROM swiggy_source s\n",
    "        JOIN city c ON s.city = c.name\n",
    "        JOIN locality l ON s.locality = l.name\n",
    "        JOIN restaurant r ON s.restaurant_name = r.name\n",
    "        JOIN cuisine cu ON s.cuisines = cu.name\n",
    "        JOIN rating rt ON s.rating_stars_out_of_5 = rt.stars AND s.rating_in_text = rt.text\n",
    "        JOIN delivery d ON s.has_online_delivery = d.availability\n",
    "        JOIN booking b ON s.has_table_booking = b.availability;\n",
    "        '''\n",
    "        \n",
    "        # Insert data into the fact table\n",
    "        cursor.execute(fact_table_inilization_query)\n",
    "        conn.commit()\n",
    "        print(\"Fact table initialized successfully.\")\n",
    "        \n",
    "    except Error as e:\n",
    "        print(f\"Error initializing fact table: {e}\")\n",
    "\n",
    "\n",
    "conn, cursor = connect_to_database(host, user, password, database)\n",
    "\n",
    "if conn and cursor:\n",
    "    \n",
    "    initialize_fact_table_from_swiggy_source(cursor)    \n",
    "    \n",
    "    # Don't forget to close after done:\n",
    "    cursor.close()\n",
    "    conn.close()\n",
    "else:\n",
    "    print(\"Failed to connect to database\")"
   ]
  },
  {
   "cell_type": "code",
   "execution_count": 25,
   "id": "0d700326",
   "metadata": {},
   "outputs": [
    {
     "name": "stdout",
     "output_type": "stream",
     "text": [
      "Connected to MySQL database\n",
      "Fact table initialized successfully.\n"
     ]
    }
   ],
   "source": [
    "def initialize_fact_table_from_swiggy_source(cursor):\n",
    "    \"\"\"\n",
    "    Initializes the fact table with data from the source table.\n",
    "    \"\"\"\n",
    "    try:\n",
    "        \n",
    "        fact_table_inilization_query = '''\n",
    "        INSERT INTO fact_swiggy (\n",
    "            city_id, locality_id, rest_id, cuisine_id, rating_id,\n",
    "            delivery_id, book_id, avg_cost_for_2, votes, price_range\n",
    "        )\n",
    "        SELECT\n",
    "            c.city_id, \n",
    "            l.locality_id, \n",
    "            r.rest_id, \n",
    "            cu.cuisine_id, \n",
    "            rt.rating_id,\n",
    "            d.delivery_id, \n",
    "            b.book_id,\n",
    "            s.avg_cost_for_two,\n",
    "            s.votes,\n",
    "            s.price_range\n",
    "        FROM swiggy_source s\n",
    "        JOIN city_dim c ON s.city = c.city_name\n",
    "        JOIN locality_dim l ON s.locality = l.locality_name\n",
    "        JOIN restaurant r ON s.restaurant_name = r.rest_name\n",
    "        JOIN cuisines cu ON s.cuisines = cu.cuisine_name\n",
    "        JOIN ratings rt ON s.rating_stars_out_of_5 = rt.star AND s.rating_in_text = rt.rating_text\n",
    "        JOIN delivery d ON s.has_online_delivery = d.delivery_avail\n",
    "        JOIN table_booking b ON s.has_table_booking = b.book_avail;\n",
    "        '''\n",
    "        \n",
    "        # Insert data into the fact table\n",
    "        cursor.execute(fact_table_inilization_query)\n",
    "        conn.commit()\n",
    "        print(\"Fact table initialized successfully.\")\n",
    "        \n",
    "    except Error as e:\n",
    "        print(f\"Error initializing fact table: {e}\")\n",
    "\n",
    "\n",
    "conn, cursor = connect_to_database(host, user, password, database)\n",
    "\n",
    "if conn and cursor:\n",
    "    \n",
    "    initialize_fact_table_from_swiggy_source(cursor)    \n",
    "    \n",
    "    # Don't forget to close after done:\n",
    "    cursor.close()\n",
    "    conn.close()\n",
    "else:\n",
    "    print(\"Failed to connect to database\")"
   ]
  },
  {
   "cell_type": "code",
   "execution_count": 20,
   "id": "9f38d205",
   "metadata": {},
   "outputs": [
    {
     "name": "stdout",
     "output_type": "stream",
     "text": [
      "Connected to MySQL database\n"
     ]
    }
   ],
   "source": [
    "conn, cursor = connect_to_database(host, user, password, database)\n",
    "\n",
    "if conn and cursor:\n",
    "    \n",
    "    ### Drop the fact_swiggy table\n",
    "    ## Code to drop the table if needed\n",
    "    ## Uncomment the following lines if you want to drop the table\n",
    "\n",
    "    cursor.execute(\"DROP TABLE IF EXISTS fact_swiggy\")\n",
    "    \n",
    "    \n",
    "    # Don't forget to close after done:\n",
    "    cursor.close()\n",
    "    conn.close()\n",
    "else:\n",
    "    print(\"Failed to connect to database\")"
   ]
  },
  {
   "cell_type": "code",
   "execution_count": null,
   "metadata": {},
   "outputs": [],
   "source": []
  },
  {
   "cell_type": "code",
   "execution_count": null,
   "id": "05fcf79e",
   "metadata": {},
   "outputs": [],
   "source": [
    "cursor.execute(\"\")\n",
    "conn.commit()"
   ]
  },
  {
   "cell_type": "code",
   "execution_count": null,
   "id": "fec38278",
   "metadata": {},
   "outputs": [],
   "source": [
    "# Close\n",
    "cursor.close()\n",
    "conn.close()"
   ]
  },
  {
   "cell_type": "code",
   "execution_count": null,
   "id": "4e53f3ec",
   "metadata": {},
   "outputs": [],
   "source": []
  }
 ],
 "metadata": {
  "kernelspec": {
   "display_name": ".venv",
   "language": "python",
   "name": "python3"
  },
  "language_info": {
   "codemirror_mode": {
    "name": "ipython",
    "version": 3
   },
   "file_extension": ".py",
   "mimetype": "text/x-python",
   "name": "python",
   "nbconvert_exporter": "python",
   "pygments_lexer": "ipython3",
   "version": "3.13.3"
  }
 },
 "nbformat": 4,
 "nbformat_minor": 5
}
